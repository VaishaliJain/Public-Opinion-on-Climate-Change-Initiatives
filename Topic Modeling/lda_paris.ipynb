{
 "cells": [
  {
   "cell_type": "code",
   "execution_count": 1,
   "metadata": {},
   "outputs": [],
   "source": [
    "import re\n",
    "import numpy as np\n",
    "import pandas as pd\n",
    "from contractions import fix\n",
    "\n",
    "# Gensim\n",
    "import gensim\n",
    "import gensim.corpora as corpora\n",
    "from gensim.utils import simple_preprocess\n",
    "from gensim.models import CoherenceModel\n",
    "\n",
    "# spacy\n",
    "import spacy\n",
    "nlp = spacy.load('en_core_web_sm', disable=['parser', 'ner'])\n",
    "nlp.max_length = 100000000\n",
    "\n",
    "# Plotting tools\n",
    "import pyLDAvis\n",
    "import pyLDAvis.gensim\n",
    "import matplotlib.pyplot as plt"
   ]
  },
  {
   "cell_type": "code",
   "execution_count": 2,
   "metadata": {},
   "outputs": [],
   "source": [
    "# set file name\n",
    "filename = \"full_paris_emolex\""
   ]
  },
  {
   "cell_type": "code",
   "execution_count": 3,
   "metadata": {},
   "outputs": [],
   "source": [
    "# reading data\n",
    "df = pd.read_csv(filename+'.csv', low_memory=False)\n",
    "df.full_text = df.full_text.apply(str)\n",
    "\n",
    "# remove URLs from all data\n",
    "df.full_text = df.full_text.str.replace(r'https?://\\S+', '')\n",
    "\n",
    "# fixing contractions\n",
    "df.full_text = df.full_text.apply(fix)\n",
    "\n",
    "# get all text data\n",
    "data = df['full_text'].copy()"
   ]
  },
  {
   "cell_type": "code",
   "execution_count": 4,
   "metadata": {},
   "outputs": [],
   "source": [
    "# defining functions to pre-process data, then adding to spacy nlp pipeline\n",
    "def lemmatizer(doc):\n",
    "    allowed_postags = ['NOUN', 'ADJ', 'VERB', 'ADV']\n",
    "    doc = [token.lemma_ for token in doc if token.pos_ in allowed_postags]\n",
    "    doc = u' '.join(doc)\n",
    "    return nlp.make_doc(doc)\n",
    "\n",
    "def remove_stopwords(doc):\n",
    "    doc = [token.text for token in doc if (not token.is_stop) and (not token.is_punct)]\n",
    "    return doc\n",
    "\n",
    "nlp.add_pipe(lemmatizer, name='lemmatizer', last=True)\n",
    "nlp.add_pipe(remove_stopwords, name=\"stopwords\", last=True)"
   ]
  },
  {
   "cell_type": "code",
   "execution_count": 5,
   "metadata": {},
   "outputs": [],
   "source": [
    "# getting documents to process with gensim\n",
    "doc_list = []\n",
    "for doc in data:\n",
    "    if len(doc) > 0:\n",
    "        pr = nlp(doc)\n",
    "        doc_list.append(pr)"
   ]
  },
  {
   "cell_type": "code",
   "execution_count": 6,
   "metadata": {},
   "outputs": [],
   "source": [
    "# get gensim corpora\n",
    "id2word = corpora.Dictionary(doc_list)\n",
    "\n",
    "# Term Document Frequency\n",
    "corpus = [id2word.doc2bow(doc) for doc in doc_list]"
   ]
  },
  {
   "cell_type": "code",
   "execution_count": 7,
   "metadata": {},
   "outputs": [],
   "source": [
    "# find best model\n",
    "def compute_coherence_values(dictionary, corpus, texts, limit, start, step):\n",
    "    \"\"\"\n",
    "    Compute c_v coherence for various number of topics\n",
    "\n",
    "    Parameters:\n",
    "    ----------\n",
    "    dictionary : Gensim dictionary\n",
    "    corpus : Gensim corpus\n",
    "    texts : List of input texts\n",
    "    limit : Max num of topics\n",
    "\n",
    "    Returns:\n",
    "    -------\n",
    "    model_list : List of LDA topic models\n",
    "    coherence_values : Coherence values corresponding to the LDA model with respective number of topics\n",
    "    \"\"\"\n",
    "    coherence_values = []\n",
    "    model_list = []\n",
    "    for num_topics in range(start, limit, step):\n",
    "        model = gensim.models.ldamulticore.LdaModel(corpus=corpus, id2word=id2word, num_topics=num_topics, random_state=100, passes=5, per_word_topics=True, alpha='auto')\n",
    "        model_list.append(model)\n",
    "        coherencemodel = CoherenceModel(model=model, texts=texts, dictionary=dictionary, coherence='c_v')\n",
    "        coherence_values.append(coherencemodel.get_coherence())\n",
    "\n",
    "    return model_list, coherence_values"
   ]
  },
  {
   "cell_type": "code",
   "execution_count": 8,
   "metadata": {},
   "outputs": [],
   "source": [
    "# setting hyperparameters for coherence value calculations\n",
    "limit = 15\n",
    "start = 6\n",
    "step = 2"
   ]
  },
  {
   "cell_type": "code",
   "execution_count": 9,
   "metadata": {},
   "outputs": [],
   "source": [
    "# get coherence values for multiple number of topics\n",
    "model_list, coherence_values = compute_coherence_values(dictionary=id2word, corpus=corpus, texts=doc_list, start=start, limit=limit, step=step)"
   ]
  },
  {
   "cell_type": "code",
   "execution_count": 10,
   "metadata": {},
   "outputs": [
    {
     "name": "stdout",
     "output_type": "stream",
     "text": [
      "Num Topics = 6  has Coherence Value of 0.3784\n",
      "Num Topics = 8  has Coherence Value of 0.3855\n",
      "Num Topics = 10  has Coherence Value of 0.4142\n",
      "Num Topics = 12  has Coherence Value of 0.3712\n",
      "Num Topics = 14  has Coherence Value of 0.376\n"
     ]
    },
    {
     "data": {
      "image/png": "[encoded data removed]",
      "text/plain": [
       "<Figure size 432x288 with 1 Axes>"
      ]
     },
     "metadata": {
      "needs_background": "light"
     },
     "output_type": "display_data"
    }
   ],
   "source": [
    "# get plot for best coherence value\n",
    "x = range(start, limit, step)\n",
    "plt.plot(x, coherence_values)\n",
    "plt.xlabel(\"Num Topics\")\n",
    "plt.ylabel(\"Coherence score\")\n",
    "plt.legend((\"coherence_values\"), loc='best')\n",
    "plt.savefig(filename+'_coherence_plot.png')\n",
    "\n",
    "# print coherence scores for record\n",
    "for m, cv in zip(x, coherence_values):\n",
    "    print(\"Num Topics =\", m, \" has Coherence Value of\", round(cv, 4))"
   ]
  },
  {
   "cell_type": "code",
   "execution_count": 11,
   "metadata": {},
   "outputs": [
    {
     "name": "stdout",
     "output_type": "stream",
     "text": [
      "OPTIMAL MODEL:\n"
     ]
    },
    {
     "data": {
      "text/plain": [
       "[(0,\n",
       "  '0.023*\"fuel\" + 0.019*\"act\" + 0.017*\"fossil\" + 0.017*\"withdrawal\" + 0.014*\"avoid\" + 0.014*\"international\" + 0.014*\"stand\" + 0.013*\"humanity\" + 0.013*\"reach\" + 0.012*\"effort\"'),\n",
       " (1,\n",
       "  '0.050*\"impact\" + 0.039*\"news\" + 0.026*\"adapt\" + 0.025*\"life\" + 0.023*\"ability\" + 0.022*\"adverse\" + 0.021*\"art.2.1(b):increase\" + 0.020*\"environmental\" + 0.018*\"administration\" + 0.018*\"world\"'),\n",
       " (2,\n",
       "  '0.180*\"global\" + 0.092*\"warming\" + 0.036*\"increase\" + 0.034*\"temperature\" + 0.033*\"°\" + 0.032*\"limit\" + 0.030*\"c\" + 0.026*\"average\" + 0.021*\"accord\" + 0.019*\"set\"'),\n",
       " (3,\n",
       "  '0.034*\"auspol\" + 0.021*\"kill\" + 0.019*\"mid\" + 0.017*\"run\" + 0.016*\"miss\" + 0.015*\"pact\" + 0.014*\"manage\" + 0.014*\"ecosystem\" + 0.014*\"breach\" + 0.014*\"ratify\"'),\n",
       " (4,\n",
       "  '0.052*\"new\" + 0.031*\"meet\" + 0.030*\"goal\" + 0.028*\"report\" + 0.020*\"makeourplanetgreatagain\" + 0.017*\"find\" + 0.017*\"major\" + 0.014*\"fund\" + 0.013*\"develop\" + 0.013*\"target\"'),\n",
       " (5,\n",
       "  '0.018*\"cop23\" + 0.018*\"man\" + 0.017*\"tweet\" + 0.016*\"american\" + 0.014*\"land\" + 0.013*\"cold\" + 0.013*\"air\" + 0.011*\"dollar\" + 0.011*\"spend\" + 0.010*\"ago\"'),\n",
       " (6,\n",
       "  '0.122*\"climate\" + 0.100*\"change\" + 0.031*\"agreement\" + 0.019*\"country\" + 0.019*\"world\" + 0.018*\"accord\" + 0.015*\"year\" + 0.010*\"fight\" + 0.010*\"need\" + 0.010*\"pull\"'),\n",
       " (7,\n",
       "  '0.067*\"emission\" + 0.031*\"target\" + 0.029*\"talk\" + 0.029*\"reduce\" + 0.026*\"gas\" + 0.026*\"meet\" + 0.023*\"implement\" + 0.020*\"carbon\" + 0.019*\"commit\" + 0.018*\"cut\"'),\n",
       " (8,\n",
       "  '0.031*\"commitment\" + 0.030*\"today\" + 0.020*\"action\" + 0.019*\"city\" + 0.016*\"step\" + 0.016*\"tackle\" + 0.015*\"achieve\" + 0.014*\"join\" + 0.012*\"leadership\" + 0.011*\"solution\"'),\n",
       " (9,\n",
       "  '0.200*\"climatechange\" + 0.069*\"climateaction\" + 0.026*\"parisagreement\" + 0.025*\"action\" + 0.025*\"energy\" + 0.023*\"environment\" + 0.019*\"amp\" + 0.017*\"emission\" + 0.016*\"party\" + 0.016*\"aim\"')]"
      ]
     },
     "execution_count": 11,
     "metadata": {},
     "output_type": "execute_result"
    }
   ],
   "source": [
    "# select model and print topics\n",
    "best_model_index = coherence_values.index(max(coherence_values))\n",
    "optimal_model = model_list[best_model_index]\n",
    "model_topics = optimal_model.show_topics(formatted=False)\n",
    "print('OPTIMAL MODEL:')\n",
    "optimal_model.print_topics(num_topics = -1, num_words=10)"
   ]
  },
  {
   "cell_type": "code",
   "execution_count": 12,
   "metadata": {},
   "outputs": [],
   "source": [
    "# save topics visualization\n",
    "vis = pyLDAvis.gensim.prepare(optimal_model, corpus, id2word)\n",
    "pyLDAvis.save_html(vis, filename+'_pyldavis.html')"
   ]
  },
  {
   "cell_type": "code",
   "execution_count": null,
   "metadata": {},
   "outputs": [],
   "source": []
  }
 ],
 "metadata": {
  "kernelspec": {
   "display_name": "Python 3",
   "language": "python",
   "name": "python3"
  },
  "language_info": {
   "codemirror_mode": {
    "name": "ipython",
    "version": 3
   },
   "file_extension": ".py",
   "mimetype": "text/x-python",
   "name": "python",
   "nbconvert_exporter": "python",
   "pygments_lexer": "ipython3",
   "version": "3.7.5"
  }
 },
 "nbformat": 4,
 "nbformat_minor": 4
}
