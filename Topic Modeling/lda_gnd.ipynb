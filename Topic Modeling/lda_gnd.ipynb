{
 "cells": [
  {
   "cell_type": "code",
   "execution_count": 13,
   "metadata": {},
   "outputs": [],
   "source": [
    "import re\n",
    "import numpy as np\n",
    "import pandas as pd\n",
    "from contractions import fix\n",
    "\n",
    "# Gensim\n",
    "import gensim\n",
    "import gensim.corpora as corpora\n",
    "from gensim.utils import simple_preprocess\n",
    "from gensim.models import CoherenceModel\n",
    "\n",
    "# spacy\n",
    "import spacy\n",
    "nlp = spacy.load('en_core_web_sm', disable=['parser', 'ner'])\n",
    "nlp.max_length = 100000000\n",
    "\n",
    "# Plotting tools\n",
    "import pyLDAvis\n",
    "import pyLDAvis.gensim\n",
    "import matplotlib.pyplot as plt"
   ]
  },
  {
   "cell_type": "code",
   "execution_count": 2,
   "metadata": {},
   "outputs": [],
   "source": [
    "# set file name\n",
    "filename = \"full_gnd_emolex\""
   ]
  },
  {
   "cell_type": "code",
   "execution_count": 3,
   "metadata": {},
   "outputs": [],
   "source": [
    "# reading data\n",
    "df = pd.read_csv(filename+'.csv', low_memory=False)\n",
    "df.full_text = df.full_text.apply(str)\n",
    "\n",
    "# remove URLs from all data\n",
    "df.full_text = df.full_text.str.replace(r'https?://\\S+', '')\n",
    "\n",
    "# fixing contractions\n",
    "df.full_text = df.full_text.apply(fix)\n",
    "\n",
    "# get all text data\n",
    "data = df['full_text'].copy()"
   ]
  },
  {
   "cell_type": "code",
   "execution_count": 4,
   "metadata": {},
   "outputs": [],
   "source": [
    "# defining functions to pre-process data, then adding to spacy nlp pipeline\n",
    "def lemmatizer(doc):\n",
    "    allowed_postags = ['NOUN', 'ADJ', 'VERB', 'ADV']\n",
    "    doc = [token.lemma_ for token in doc if token.pos_ in allowed_postags]\n",
    "    doc = u' '.join(doc)\n",
    "    return nlp.make_doc(doc)\n",
    "\n",
    "def remove_stopwords(doc):\n",
    "    doc = [token.text for token in doc if (not token.is_stop) and (not token.is_punct)]\n",
    "    return doc\n",
    "\n",
    "nlp.add_pipe(lemmatizer, name='lemmatizer', last=True)\n",
    "nlp.add_pipe(remove_stopwords, name=\"stopwords\", last=True)"
   ]
  },
  {
   "cell_type": "code",
   "execution_count": 5,
   "metadata": {},
   "outputs": [],
   "source": [
    "# getting documents to process with gensim\n",
    "doc_list = []\n",
    "for doc in data:\n",
    "    if len(doc) > 0:\n",
    "        pr = nlp(doc)\n",
    "        doc_list.append(pr)"
   ]
  },
  {
   "cell_type": "code",
   "execution_count": 6,
   "metadata": {},
   "outputs": [],
   "source": [
    "# get gensim corpora\n",
    "id2word = corpora.Dictionary(doc_list)\n",
    "\n",
    "# Term Document Frequency\n",
    "corpus = [id2word.doc2bow(doc) for doc in doc_list]"
   ]
  },
  {
   "cell_type": "code",
   "execution_count": 7,
   "metadata": {},
   "outputs": [],
   "source": [
    "# find best model\n",
    "def compute_coherence_values(dictionary, corpus, texts, limit, start, step):\n",
    "    \"\"\"\n",
    "    Compute c_v coherence for various number of topics\n",
    "\n",
    "    Parameters:\n",
    "    ----------\n",
    "    dictionary : Gensim dictionary\n",
    "    corpus : Gensim corpus\n",
    "    texts : List of input texts\n",
    "    limit : Max num of topics\n",
    "\n",
    "    Returns:\n",
    "    -------\n",
    "    model_list : List of LDA topic models\n",
    "    coherence_values : Coherence values corresponding to the LDA model with respective number of topics\n",
    "    \"\"\"\n",
    "    coherence_values = []\n",
    "    model_list = []\n",
    "    for num_topics in range(start, limit, step):\n",
    "        model = gensim.models.ldamulticore.LdaModel(corpus=corpus, id2word=id2word, num_topics=num_topics, random_state=100, passes=5, per_word_topics=True, alpha='auto')\n",
    "        model_list.append(model)\n",
    "        coherencemodel = CoherenceModel(model=model, texts=texts, dictionary=dictionary, coherence='c_v')\n",
    "        coherence_values.append(coherencemodel.get_coherence())\n",
    "\n",
    "    return model_list, coherence_values"
   ]
  },
  {
   "cell_type": "code",
   "execution_count": 17,
   "metadata": {},
   "outputs": [],
   "source": [
    "# setting hyperparameters for coherence value calculations\n",
    "limit = 15\n",
    "start = 6\n",
    "step = 2"
   ]
  },
  {
   "cell_type": "code",
   "execution_count": 18,
   "metadata": {},
   "outputs": [],
   "source": [
    "# get coherence values for multiple number of topics\n",
    "model_list, coherence_values = compute_coherence_values(dictionary=id2word, corpus=corpus, texts=doc_list, start=start, limit=limit, step=step)"
   ]
  },
  {
   "cell_type": "code",
   "execution_count": 19,
   "metadata": {},
   "outputs": [
    {
     "name": "stdout",
     "output_type": "stream",
     "text": [
      "Num Topics = 6  has Coherence Value of 0.4076\n",
      "Num Topics = 8  has Coherence Value of 0.3448\n",
      "Num Topics = 10  has Coherence Value of 0.4134\n",
      "Num Topics = 12  has Coherence Value of 0.4235\n",
      "Num Topics = 14  has Coherence Value of 0.3784\n"
     ]
    },
    {
     "data": {
      "image/png": "[encoded data removed]",
      "text/plain": [
       "<Figure size 432x288 with 1 Axes>"
      ]
     },
     "metadata": {
      "needs_background": "light"
     },
     "output_type": "display_data"
    }
   ],
   "source": [
    "# get plot for best coherence value\n",
    "x = range(start, limit, step)\n",
    "plt.plot(x, coherence_values)\n",
    "plt.xlabel(\"Num Topics\")\n",
    "plt.ylabel(\"Coherence score\")\n",
    "plt.legend((\"coherence_values\"), loc='best')\n",
    "plt.savefig(filename+'_coherence_plot.png')\n",
    "\n",
    "# print coherence scores for record\n",
    "for m, cv in zip(x, coherence_values):\n",
    "    print(\"Num Topics =\", m, \" has Coherence Value of\", round(cv, 4))"
   ]
  },
  {
   "cell_type": "code",
   "execution_count": 20,
   "metadata": {},
   "outputs": [
    {
     "name": "stdout",
     "output_type": "stream",
     "text": [
      "OPTIMAL MODEL:\n"
     ]
    },
    {
     "data": {
      "text/plain": [
       "[(0,\n",
       "  '0.102*\"vote\" + 0.029*\"late\" + 0.028*\"seriously\" + 0.026*\"extinction\" + 0.026*\"kid\" + 0.024*\"lose\" + 0.023*\"fridaysforfuture\" + 0.020*\"supporter\" + 0.015*\"🌎\" + 0.015*\"essay\"'),\n",
       " (1,\n",
       "  '0.153*\"climatechange\" + 0.045*\"greennewdeal\" + 0.033*\"climatechangeisreal\" + 0.033*\"environment\" + 0.022*\"climateaction\" + 0.018*\"climatecrisis\" + 0.014*\"actonclimate\" + 0.012*\"climatestrike\" + 0.012*\"extinctionrebellion\" + 0.011*\"raise\"'),\n",
       " (2,\n",
       "  '0.107*\"unite\" + 0.040*\"air\" + 0.029*\"socialist\" + 0.025*\"water\" + 0.024*\"little\" + 0.022*\"mind\" + 0.017*\"savetheplanet\" + 0.017*\"theme\" + 0.017*\"fake\" + 0.016*\"happy\"'),\n",
       " (3,\n",
       "  '0.147*\"green\" + 0.142*\"new\" + 0.140*\"deal\" + 0.026*\"change\" + 0.022*\"climate\" + 0.015*\"support\" + 0.012*\"joke\" + 0.012*\"proposal\" + 0.011*\"form\" + 0.010*\"phone\"'),\n",
       " (4,\n",
       "  '0.114*\"climate\" + 0.102*\"change\" + 0.025*\"greennewdeal\" + 0.024*\"need\" + 0.019*\"time\" + 0.017*\"support\" + 0.012*\"people\" + 0.011*\"action\" + 0.011*\"fight\" + 0.009*\"year\"'),\n",
       " (5,\n",
       "  '0.078*\"carbon\" + 0.037*\"day\" + 0.034*\"tax\" + 0.024*\"election\" + 0.021*\"weather\" + 0.019*\"event\" + 0.018*\"amp\" + 0.018*\"hoax\" + 0.017*\"question\" + 0.017*\"record\"'),\n",
       " (6,\n",
       "  '0.018*\"economy\" + 0.018*\"gnd\" + 0.016*\"energy\" + 0.016*\"trump\" + 0.013*\"transition\" + 0.013*\"socialism\" + 0.013*\"medium\" + 0.012*\"climatechange\" + 0.012*\"government\" + 0.012*\"capitalism\"'),\n",
       " (7,\n",
       "  '0.068*\"global\" + 0.042*\"warming\" + 0.028*\"plan\" + 0.019*\"end\" + 0.016*\"year\" + 0.014*\"use\" + 0.014*\"idea\" + 0.013*\"candidate\" + 0.013*\"claim\" + 0.011*\"climate\"'),\n",
       " (8,\n",
       "  '0.053*\"create\" + 0.039*\"let\" + 0.035*\"community\" + 0.025*\"seize\" + 0.022*\"low\" + 0.022*\"work\" + 0.022*\"sustainable\" + 0.021*\"job\" + 0.020*\"class\" + 0.019*\"order\"'),\n",
       " (9,\n",
       "  '0.045*\"climatechange\" + 0.041*\"energy\" + 0.020*\"actonclimate\" + 0.018*\"solar\" + 0.014*\"renewable\" + 0.014*\"cdnpoli\" + 0.013*\"implement\" + 0.012*\"city\" + 0.011*\"aoc\" + 0.011*\"solution\"'),\n",
       " (10,\n",
       "  '0.041*\"job\" + 0.035*\"fuel\" + 0.032*\"fossil\" + 0.023*\"cost\" + 0.018*\"climate\" + 0.017*\"money\" + 0.017*\"change\" + 0.014*\"stop\" + 0.013*\"economy\" + 0.012*\"rally\"'),\n",
       " (11,\n",
       "  '0.052*\"middle\" + 0.032*\"oil\" + 0.031*\"lie\" + 0.024*\"leadership\" + 0.024*\"bernie2020\" + 0.020*\"news\" + 0.018*\"chance\" + 0.018*\"poll\" + 0.016*\"big\" + 0.016*\"People\"')]"
      ]
     },
     "execution_count": 20,
     "metadata": {},
     "output_type": "execute_result"
    }
   ],
   "source": [
    "# select model and print topics\n",
    "best_model_index = coherence_values.index(max(coherence_values))\n",
    "optimal_model = model_list[best_model_index]\n",
    "model_topics = optimal_model.show_topics(formatted=False)\n",
    "print('OPTIMAL MODEL:')\n",
    "optimal_model.print_topics(num_topics = -1, num_words=10)"
   ]
  },
  {
   "cell_type": "code",
   "execution_count": 21,
   "metadata": {},
   "outputs": [],
   "source": [
    "# save topics visualization\n",
    "vis = pyLDAvis.gensim.prepare(optimal_model, corpus, id2word)\n",
    "pyLDAvis.save_html(vis, filename+'_pyldavis.html')"
   ]
  },
  {
   "cell_type": "code",
   "execution_count": null,
   "metadata": {},
   "outputs": [],
   "source": []
  }
 ],
 "metadata": {
  "kernelspec": {
   "display_name": "Python 3",
   "language": "python",
   "name": "python3"
  },
  "language_info": {
   "codemirror_mode": {
    "name": "ipython",
    "version": 3
   },
   "file_extension": ".py",
   "mimetype": "text/x-python",
   "name": "python",
   "nbconvert_exporter": "python",
   "pygments_lexer": "ipython3",
   "version": "3.7.7"
  }
 },
 "nbformat": 4,
 "nbformat_minor": 4
}
